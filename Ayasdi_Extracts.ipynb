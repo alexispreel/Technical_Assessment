{
 "cells": [
  {
   "cell_type": "code",
   "execution_count": 1,
   "metadata": {
    "collapsed": false
   },
   "outputs": [
    {
     "name": "stdout",
     "output_type": "stream",
     "text": [
      "Loading data from  Customer.csv ...\n",
      "   id             name  address\n",
      "0   1  Bank of America        1\n",
      "1   2             UCSF        2\n",
      "2   3         Citibank        3\n",
      "3   4    Sutter Health        4\n",
      "Loading data from  Product.csv ...\n",
      "   id           name             description\n",
      "0   1  Ayasdi Core 1  this is a cool product\n",
      "1   2  Ayasdi Core 2  this is a cool product\n",
      "2   3  Ayasdi Core 3  this is a cool product\n",
      "Loading data from  Sale.csv ...\n",
      "   id     description   price       date  customer  product\n",
      "0   1  this is a sale  100000  10/7/2016         1        2\n",
      "1   2  this is a sale  200000  10/7/2016         2        1\n",
      "2   3  this is a sale  150000  10/7/2016         3        2\n"
     ]
    }
   ],
   "source": [
    "\"\"\" Getting list of tables\"\"\"\n",
    "\n",
    "# Importing libraries\n",
    "import os\n",
    "import codecs\n",
    "\n",
    "# Source file\n",
    "file_path = 'tables.txt'\n",
    "\n",
    "# Opening list of tables\n",
    "tables = codecs.open(file_path, 'r')\n",
    "\n",
    "\n",
    "\"\"\" Loading to Ayasdi \"\"\"\n",
    "\n",
    "# Importing libraries\n",
    "from ayasdi_sdk import *\n",
    "\n",
    "# Browsing list of tables\n",
    "for tb_name in tables:\n",
    "    # Generating source file name\n",
    "    file_name = tb_name.rstrip() + '.csv'\n",
    "    \n",
    "    # Loading to Ayasdi\n",
    "    ayasdi_loader(file_name)\n",
    "        \n",
    "# Closing list of tables\n",
    "tables.close()"
   ]
  }
 ],
 "metadata": {
  "kernelspec": {
   "display_name": "Python 2",
   "language": "python",
   "name": "python2"
  },
  "language_info": {
   "codemirror_mode": {
    "name": "ipython",
    "version": 2
   },
   "file_extension": ".py",
   "mimetype": "text/x-python",
   "name": "python",
   "nbconvert_exporter": "python",
   "pygments_lexer": "ipython2",
   "version": "2.7.11"
  }
 },
 "nbformat": 4,
 "nbformat_minor": 0
}
